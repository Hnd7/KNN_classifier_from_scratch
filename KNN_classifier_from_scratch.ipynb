{
 "cells": [
  {
   "cell_type": "markdown",
   "metadata": {},
   "source": [
    "In this notebook, I attempted to develop a KNN classifier from scratch. It is an open-to-develop model, so I would be glad to hear your suggestions."
   ]
  },
  {
   "cell_type": "code",
   "execution_count": 1,
   "metadata": {},
   "outputs": [],
   "source": [
    "#To develop the KNN classifier from scratch\n",
    "from collections import Counter\n",
    "\n",
    "#To evaluate the performance of the model\n",
    "import numpy as np\n",
    "from sklearn.model_selection import train_test_split \n",
    "from sklearn.metrics import confusion_matrix,accuracy_score\n",
    "from sklearn.neighbors import KNeighborsClassifier \n",
    "import time\n",
    "import matplotlib.pyplot as plt\n",
    "%matplotlib inline"
   ]
  },
  {
   "cell_type": "markdown",
   "metadata": {},
   "source": [
    "## Developing the KNN classifier from scratch"
   ]
  },
  {
   "cell_type": "code",
   "execution_count": 2,
   "metadata": {},
   "outputs": [],
   "source": [
    "# Minkowski distance formula for classifier\n",
    "def minkowski(x,y,p):\n",
    "    inner=[]\n",
    "    for i in range(len(x)):\n",
    "        inner.append(pow((abs(x[i]-y[i])),p))\n",
    "    dist=pow(sum(inner),1/p)\n",
    "    return dist"
   ]
  },
  {
   "cell_type": "code",
   "execution_count": 3,
   "metadata": {},
   "outputs": [],
   "source": [
    "class KNN_classifier: \n",
    "    def __init__(self,k=5,p=2):\n",
    "        self.k = k\n",
    "        self.p = p\n",
    "        \n",
    "    #List to hold x_train and y_train together   \n",
    "    def labeled_data(self, x_train, y_train):\n",
    "        self.labeled_data=list(zip(x_train,y_train))        \n",
    "        \n",
    "    #Prediction method    \n",
    "    def predictor(self, x_test):        \n",
    "        predictions=[]\n",
    "        for point in x_test:\n",
    "            distances=[]\n",
    "            for line in self.labeled_data:                \n",
    "                distances.append([(minkowski(point,line[0],self.p)),line[-1]])\n",
    "                \n",
    "            distances.sort(key=lambda x: x[0])\n",
    "            classes=list(map(lambda x: x[1], distances[:self.k]))\n",
    "            predictions.append(Counter(classes).most_common()[0][0])\n",
    "               \n",
    "        return predictions  "
   ]
  },
  {
   "cell_type": "markdown",
   "metadata": {},
   "source": [
    "## Testing the performance of the model"
   ]
  },
  {
   "cell_type": "markdown",
   "metadata": {},
   "source": [
    "I used \"seeds Data Set\" from UCI for testing my classifier."
   ]
  },
  {
   "cell_type": "code",
   "execution_count": 4,
   "metadata": {},
   "outputs": [],
   "source": [
    "file = open(\"seeds_dataset.txt\",\"r+\") \n",
    "raw_data=file.readlines() \n",
    "file.close()"
   ]
  },
  {
   "cell_type": "code",
   "execution_count": 5,
   "metadata": {},
   "outputs": [
    {
     "name": "stdout",
     "output_type": "stream",
     "text": [
      "(210, 8)\n",
      "[[15.26   14.84    0.871   5.763   3.312   2.221   5.22    1.    ]\n",
      " [14.88   14.57    0.8811  5.554   3.333   1.018   4.956   1.    ]\n",
      " [14.29   14.09    0.905   5.291   3.337   2.699   4.825   1.    ]\n",
      " [13.84   13.94    0.8955  5.324   3.379   2.259   4.805   1.    ]\n",
      " [16.14   14.99    0.9034  5.658   3.562   1.355   5.175   1.    ]]\n"
     ]
    }
   ],
   "source": [
    "data_list=[]\n",
    "for line in raw_data:\n",
    "    line=line.replace(\"\\n\",\"\")\n",
    "    data_list.append(line.split(\"\\t\"))\n",
    "\n",
    "data_list=list(np.float_(data_list))\n",
    "data_array=np.array(data_list)\n",
    "print(data_array.shape)\n",
    "print(data_array[:5,:])"
   ]
  },
  {
   "cell_type": "markdown",
   "metadata": {},
   "source": [
    "In the seed data set, the first 7 columns hold the features and the last column holds the labels. We have a total of 210 data belonging to 3 classes, without any null-values."
   ]
  },
  {
   "cell_type": "code",
   "execution_count": 6,
   "metadata": {},
   "outputs": [],
   "source": [
    "features=data_array[:,:7]\n",
    "label=data_array[:,7:8].reshape(-1)\n",
    "X_train, X_test, y_train, y_test = train_test_split(features, label, test_size=0.3, random_state=0, stratify=label)"
   ]
  },
  {
   "cell_type": "markdown",
   "metadata": {},
   "source": [
    "Let's evaluate the performance of KNN classifiers, both developed by me and available on Sklearn for different k values."
   ]
  },
  {
   "cell_type": "code",
   "execution_count": 7,
   "metadata": {},
   "outputs": [
    {
     "name": "stdout",
     "output_type": "stream",
     "text": [
      "Total Time: 3.5362274646759033\n",
      "Top 5 Accuracies: [[0.9047619047619048, 1], [0.9047619047619048, 2], [0.8888888888888888, 3], [0.8888888888888888, 4], [0.8888888888888888, 5]]\n"
     ]
    }
   ],
   "source": [
    "#My KNN classifier\n",
    "start = time.time()\n",
    "my_accuracies=[]\n",
    "my_confusion_matrices=[]\n",
    "my_times=[]\n",
    "#k parameter tuning\n",
    "for i in range(1,20):\n",
    "    inner_start = time.time()\n",
    "    \n",
    "    #model\n",
    "    knn = KNN_classifier(k=i)\n",
    "    knn.labeled_data(X_train,y_train)\n",
    "    predicted=knn.predictor(X_test)\n",
    "    \n",
    "    #indicators\n",
    "    my_accuracies.append([(accuracy_score(y_test, predicted)),i])\n",
    "    my_confusion_matrices.append([(confusion_matrix(y_test, predicted)),i])\n",
    "    inner_end = time.time()\n",
    "    my_times.append([(inner_end-inner_start),i])\n",
    "    \n",
    "end = time.time()\n",
    "print(\"Total Time:\",end - start)\n",
    "\n",
    "sorted_my_accuracies=sorted(my_accuracies,key=lambda x: x[0], reverse=True)  \n",
    "print(\"Top 5 Accuracies:\",my_accuracies[:5])"
   ]
  },
  {
   "cell_type": "code",
   "execution_count": 8,
   "metadata": {},
   "outputs": [
    {
     "name": "stdout",
     "output_type": "stream",
     "text": [
      "Total Time: 0.15264010429382324\n",
      "Top 5 Accuracies: [[0.9047619047619048, 1], [0.9047619047619048, 2], [0.9047619047619048, 6], [0.9047619047619048, 7], [0.9047619047619048, 8]]\n"
     ]
    }
   ],
   "source": [
    "#sklearn's KNN classifier\n",
    "start = time.time()\n",
    "sklearn_accuracies=[]\n",
    "sklearn_confusion_matrices=[]\n",
    "sklearn_times=[]\n",
    "#k parameter tuning\n",
    "for i in range(1,20):\n",
    "    inner_start = time.time()\n",
    "    \n",
    "    #model\n",
    "    knn = KNeighborsClassifier(n_neighbors=i)\n",
    "    knn.fit(X_train, y_train)\n",
    "    y_pred = knn.predict(X_test)\n",
    "    \n",
    "    #indicators\n",
    "    sklearn_accuracies.append([(accuracy_score(y_test, y_pred)),i])\n",
    "    sklearn_confusion_matrices.append([(confusion_matrix(y_test, y_pred)),i])\n",
    "    inner_end = time.time()\n",
    "    sklearn_times.append([(inner_end-inner_start),i])\n",
    "end = time.time()\n",
    "print(\"Total Time:\",end - start)    \n",
    "\n",
    "sorted_sklearn_accuracies=sorted(sklearn_accuracies,key=lambda x: x[0], reverse=True)  \n",
    "print(\"Top 5 Accuracies:\",sorted_sklearn_accuracies[:5])"
   ]
  },
  {
   "cell_type": "code",
   "execution_count": 9,
   "metadata": {},
   "outputs": [
    {
     "data": {
      "image/png": "[encoded data removed]",
      "text/plain": [
       "<Figure size 432x288 with 1 Axes>"
      ]
     },
     "metadata": {
      "needs_background": "light"
     },
     "output_type": "display_data"
    }
   ],
   "source": [
    "x=range(1,20)\n",
    "plt.plot(x, list(map(lambda x: x[0], my_accuracies)),marker='o', label = \"My KNN\")\n",
    "plt.plot(x, list(map(lambda x: x[0], sklearn_accuracies)), marker='o',label = \"Sklearn KNN\")\n",
    "plt.xlabel(\"Number of Neighbors\")\n",
    "plt.ylabel(\"Accuracies\")\n",
    "plt.title('Accuracy Comparison of KNN Classifiers for Different K Values')\n",
    "plt.legend()\n",
    "plt.show()"
   ]
  },
  {
   "cell_type": "markdown",
   "metadata": {},
   "source": [
    "My model appears to give lower accuracy for k = 10 and k = 15 compared to the Sklearn model. However, the same accuracy result was obtained for k values other than that."
   ]
  },
  {
   "cell_type": "code",
   "execution_count": 10,
   "metadata": {},
   "outputs": [
    {
     "name": "stdout",
     "output_type": "stream",
     "text": [
      "My results for k=2\n",
      "------------------\n",
      "Accuracy: 0.9047619047619048\n",
      "Time: 0.09490180015563965\n",
      "Confusion Matrix:\n",
      " [[15  2  4]\n",
      " [ 2 19  0]\n",
      " [ 1  0 20]]\n",
      "****************************************\n",
      "Sklearn results for k=2\n",
      "------------------\n",
      "Accuracy: 0.9047619047619048\n",
      "Time: 0.009358882904052734\n",
      "Confusion Matrix:\n",
      " [[15  2  4]\n",
      " [ 2 19  0]\n",
      " [ 1  0 20]]\n"
     ]
    }
   ],
   "source": [
    "print(\"My results for k=2\")\n",
    "print(\"------------------\")\n",
    "print(\"Accuracy:\", my_accuracies[1][0] )\n",
    "print(\"Time:\",my_times[1][0])\n",
    "print(\"Confusion Matrix:\\n\",confusion_matrix(y_test, predicted))\n",
    "print(\"****************************************\")\n",
    "print(\"Sklearn results for k=2\")\n",
    "print(\"------------------\")\n",
    "print(\"Accuracy:\", sklearn_accuracies[1][0] )\n",
    "print(\"Time:\",sklearn_times[1][0])\n",
    "print(\"Confusion Matrix:\\n\",confusion_matrix(y_test, y_pred))"
   ]
  },
  {
   "cell_type": "markdown",
   "metadata": {},
   "source": [
    "When we compare the models for k = 2, which is one of the small k values that gives the highest accuracy in both classifiers, it is seen that the confusion matrices are the same. The most significant difference appears to be time for the k = 2 value. Sklearn's KNN arranges the data for finding the closest neighbors efficiently during the prediction phase. Since my model does not do such a process, the time difference is an expected result and this part can be improved. "
   ]
  }
 ],
 "metadata": {
  "kernelspec": {
   "display_name": "Python 3",
   "language": "python",
   "name": "python3"
  },
  "language_info": {
   "codemirror_mode": {
    "name": "ipython",
    "version": 3
   },
   "file_extension": ".py",
   "mimetype": "text/x-python",
   "name": "python",
   "nbconvert_exporter": "python",
   "pygments_lexer": "ipython3",
   "version": "3.8.5"
  }
 },
 "nbformat": 4,
 "nbformat_minor": 4
}
